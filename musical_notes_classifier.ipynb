{
  "nbformat": 4,
  "nbformat_minor": 0,
  "metadata": {
    "colab": {
      "name": "musical_notes_classifier.ipynb",
      "provenance": [],
      "collapsed_sections": [],
      "include_colab_link": true
    },
    "kernelspec": {
      "name": "python3",
      "display_name": "Python 3"
    },
    "accelerator": "GPU"
  },
  "cells": [
    {
      "cell_type": "markdown",
      "metadata": {
        "id": "view-in-github",
        "colab_type": "text"
      },
      "source": [
        "<a href=\"https://colab.research.google.com/github/ltphy/MusicalNotesClassifier/blob/master/musical_notes_classifier.ipynb\" target=\"_parent\"><img src=\"https://colab.research.google.com/assets/colab-badge.svg\" alt=\"Open In Colab\"/></a>"
      ]
    },
    {
      "cell_type": "code",
      "metadata": {
        "id": "3RrY8g3g21K6",
        "colab_type": "code",
        "outputId": "73619be5-4f9a-47c2-d568-32039f89117a",
        "colab": {
          "base_uri": "https://localhost:8080/",
          "height": 122
        }
      },
      "source": [
        "# Mount Data From Drive\n",
        "from google.colab import drive \n",
        "drive.mount('/content/gdrive', force_remount=True)"
      ],
      "execution_count": 2,
      "outputs": [
        {
          "output_type": "stream",
          "text": [
            "Go to this URL in a browser: https://accounts.google.com/o/oauth2/auth?client_id=947318989803-6bn6qk8qdgf4n4g3pfee6491hc0brc4i.apps.googleusercontent.com&redirect_uri=urn%3Aietf%3Awg%3Aoauth%3A2.0%3Aoob&scope=email%20https%3A%2F%2Fwww.googleapis.com%2Fauth%2Fdocs.test%20https%3A%2F%2Fwww.googleapis.com%2Fauth%2Fdrive%20https%3A%2F%2Fwww.googleapis.com%2Fauth%2Fdrive.photos.readonly%20https%3A%2F%2Fwww.googleapis.com%2Fauth%2Fpeopleapi.readonly&response_type=code\n",
            "\n",
            "Enter your authorization code:\n",
            "··········\n",
            "Mounted at /content/gdrive\n"
          ],
          "name": "stdout"
        }
      ]
    },
    {
      "cell_type": "markdown",
      "metadata": {
        "id": "lKOoxWZa3EhA",
        "colab_type": "text"
      },
      "source": [
        "Import Libraries"
      ]
    },
    {
      "cell_type": "code",
      "metadata": {
        "id": "ejFtfWUE3CVU",
        "colab_type": "code",
        "colab": {}
      },
      "source": [
        "import librosa\n",
        "import pandas as pd \n",
        "import numpy as np\n",
        "import matplotlib.pyplot as plt\n",
        "%matplotlib inline\n",
        "import os\n",
        "from PIL import Image\n",
        "import pathlib\n",
        "import csv\n",
        "\n",
        "# Preprocessing\n",
        "from sklearn.model_selection import train_test_split\n",
        "from sklearn.preprocessing import LabelEncoder, StandardScaler\n",
        "\n",
        "#Keras\n",
        "import keras\n",
        "\n",
        "import warnings\n",
        "warnings.filterwarnings('ignore')"
      ],
      "execution_count": 0,
      "outputs": []
    },
    {
      "cell_type": "markdown",
      "metadata": {
        "id": "QJAO_u9F3SN3",
        "colab_type": "text"
      },
      "source": [
        "Extracting music notes\n",
        "\n",
        "Dataset:https://freesound.org/people/Jaz_the_MAN_2/\n",
        "\n",
        "The dataset consists of 7 musical sound notes:\n",
        "\n",
        "*   Do\n",
        "*   Re\n",
        "*   Mi\n",
        "*   Fa\n",
        "*   Son\n",
        "*   La\n",
        "*   Si\n",
        "\n",
        "\n"
      ]
    },
    {
      "cell_type": "code",
      "metadata": {
        "id": "5aCitvfY3OzA",
        "colab_type": "code",
        "outputId": "2bf7d935-fdc2-426a-d5da-352d150cdb19",
        "colab": {
          "base_uri": "https://localhost:8080/",
          "height": 782
        }
      },
      "source": [
        "cmap = plt.get_cmap('inferno')\n",
        "plt.figure(figsize=(10,10))\n",
        "\n",
        "musical_notes = 'do re mi fa sol la si'.split(' ')\n",
        "folder_path = 'gdrive/My Drive/music_notes/'\n",
        "for note in musical_notes:\n",
        "  count = 0\n",
        "  output_folder = os.path.join(folder_path,'img_data',note )\n",
        "  #create a folder if not exist\n",
        "  pathlib.Path(output_folder).mkdir(parents=True, exist_ok=True)  \n",
        "  folder_note = os.path.join(folder_path,note)\n",
        "  print(folder_note)\n",
        "  files = os.listdir(folder_note)\n",
        "  print(files)\n",
        "  for file in files:\n",
        "    file_path = os.path.join(folder_note,file)\n",
        "    count+=1\n",
        "    y, sr = librosa.load(file_path, mono=True, duration=5)\n",
        "    plt.specgram(y, NFFT=2048, Fs=2, Fc=0, noverlap=128, cmap=cmap, sides='default', mode='default', scale='dB');\n",
        "    plt.axis('off');\n",
        "    output_file_path =os.path.join(output_folder,note + str(count) + '.png')\n",
        "    print(output_file_path)\n",
        "    plt.savefig(output_file_path)\n",
        "    plt.clf()"
      ],
      "execution_count": 5,
      "outputs": [
        {
          "output_type": "stream",
          "text": [
            "gdrive/My Drive/music_notes/do\n",
            "['do5.wav', 'do4.wav', 'do2.wav', 'do1.wav', 'do3.wav', 'do6.wav']\n",
            "gdrive/My Drive/music_notes/img_data/do/do1.png\n",
            "gdrive/My Drive/music_notes/img_data/do/do2.png\n",
            "gdrive/My Drive/music_notes/img_data/do/do3.png\n",
            "gdrive/My Drive/music_notes/img_data/do/do4.png\n",
            "gdrive/My Drive/music_notes/img_data/do/do5.png\n",
            "gdrive/My Drive/music_notes/img_data/do/do6.png\n",
            "gdrive/My Drive/music_notes/re\n",
            "['re3.wav', 're1.wav', 're4.wav', 're2.wav']\n",
            "gdrive/My Drive/music_notes/img_data/re/re1.png\n",
            "gdrive/My Drive/music_notes/img_data/re/re2.png\n",
            "gdrive/My Drive/music_notes/img_data/re/re3.png\n",
            "gdrive/My Drive/music_notes/img_data/re/re4.png\n",
            "gdrive/My Drive/music_notes/mi\n",
            "['mi3.wav', 'mi4.wav', 'mi1.wav', 'mi2.wav']\n",
            "gdrive/My Drive/music_notes/img_data/mi/mi1.png\n",
            "gdrive/My Drive/music_notes/img_data/mi/mi2.png\n",
            "gdrive/My Drive/music_notes/img_data/mi/mi3.png\n",
            "gdrive/My Drive/music_notes/img_data/mi/mi4.png\n",
            "gdrive/My Drive/music_notes/fa\n",
            "['fa2.wav', 'fa1.wav', 'fa3.wav', 'fa4.wav']\n",
            "gdrive/My Drive/music_notes/img_data/fa/fa1.png\n",
            "gdrive/My Drive/music_notes/img_data/fa/fa2.png\n",
            "gdrive/My Drive/music_notes/img_data/fa/fa3.png\n",
            "gdrive/My Drive/music_notes/img_data/fa/fa4.png\n",
            "gdrive/My Drive/music_notes/sol\n",
            "['sol3.wav', 'sol4.wav', 'sol2.wav', 'sol1.wav']\n",
            "gdrive/My Drive/music_notes/img_data/sol/sol1.png\n",
            "gdrive/My Drive/music_notes/img_data/sol/sol2.png\n",
            "gdrive/My Drive/music_notes/img_data/sol/sol3.png\n",
            "gdrive/My Drive/music_notes/img_data/sol/sol4.png\n",
            "gdrive/My Drive/music_notes/la\n",
            "['la3.wav', 'la4.wav', 'la1.wav', 'la2.wav']\n",
            "gdrive/My Drive/music_notes/img_data/la/la1.png\n",
            "gdrive/My Drive/music_notes/img_data/la/la2.png\n",
            "gdrive/My Drive/music_notes/img_data/la/la3.png\n",
            "gdrive/My Drive/music_notes/img_data/la/la4.png\n",
            "gdrive/My Drive/music_notes/si\n",
            "['si3.wav', 'si4.wav', 'si2.wav', 'si1.wav']\n",
            "gdrive/My Drive/music_notes/img_data/si/si1.png\n",
            "gdrive/My Drive/music_notes/img_data/si/si2.png\n",
            "gdrive/My Drive/music_notes/img_data/si/si3.png\n",
            "gdrive/My Drive/music_notes/img_data/si/si4.png\n"
          ],
          "name": "stdout"
        },
        {
          "output_type": "display_data",
          "data": {
            "text/plain": [
              "<Figure size 720x720 with 0 Axes>"
            ]
          },
          "metadata": {
            "tags": []
          }
        }
      ]
    },
    {
      "cell_type": "markdown",
      "metadata": {
        "id": "_D6d_AMNAxTJ",
        "colab_type": "text"
      },
      "source": [
        "Extracting features from spectrogram\n",
        "\n",
        "We will extract\n",
        "\n",
        "Mel-frequency cepstral coefficients (MFCC)(20 in number)\n",
        "\n",
        "Spectral Centroid,\n",
        "\n",
        "Zero Crossing Rate\n",
        "\n",
        "Chroma Frequencies\n",
        "\n",
        "Spectral Roll-of\n"
      ]
    },
    {
      "cell_type": "code",
      "metadata": {
        "id": "xwei5ircAsJV",
        "colab_type": "code",
        "outputId": "97a47ea3-3140-4507-e8bb-4f7f82b243a2",
        "colab": {
          "base_uri": "https://localhost:8080/",
          "height": 54
        }
      },
      "source": [
        "header = 'filename chroma_stft spectral_centroid spectral_bandwidth rolloff zero_crossing_rate'\n",
        "for i in range(1, 21):\n",
        "    header += f' mfcc{i}'\n",
        "header += ' label'\n",
        "header = header.split()\n",
        "print(header)"
      ],
      "execution_count": 6,
      "outputs": [
        {
          "output_type": "stream",
          "text": [
            "['filename', 'chroma_stft', 'spectral_centroid', 'spectral_bandwidth', 'rolloff', 'zero_crossing_rate', 'mfcc1', 'mfcc2', 'mfcc3', 'mfcc4', 'mfcc5', 'mfcc6', 'mfcc7', 'mfcc8', 'mfcc9', 'mfcc10', 'mfcc11', 'mfcc12', 'mfcc13', 'mfcc14', 'mfcc15', 'mfcc16', 'mfcc17', 'mfcc18', 'mfcc19', 'mfcc20', 'label']\n"
          ],
          "name": "stdout"
        }
      ]
    },
    {
      "cell_type": "markdown",
      "metadata": {
        "id": "Y2FMAQNDDB2U",
        "colab_type": "text"
      },
      "source": [
        "Writing data to a CSV file\n"
      ]
    },
    {
      "cell_type": "code",
      "metadata": {
        "id": "wDRdz-lrC93j",
        "colab_type": "code",
        "colab": {}
      },
      "source": [
        "def write_to_csv(folder_path, file_name):\n",
        "  csv_path = os.path.join(folder_path,file_name)\n",
        "  file = open(csv_path,'w',newline ='')\n",
        "  with file:\n",
        "    writer = csv.writer(file)\n",
        "    writer.writerow(header)\n",
        "  for note in musical_notes:\n",
        "    image_folder = os.path.join(folder_path,note )\n",
        "    image_files = os.listdir(image_folder)\n",
        "    for file in image_files:\n",
        "      image_path = os.path.join(image_folder,file)\n",
        "      print(image_path)\n",
        "      #load audio file\n",
        "      y, sr = librosa.load(image_path, mono=True, duration= 3)\n",
        "      #chroma feature\n",
        "      chroma_stft = librosa.feature.chroma_stft(y=y, sr=sr)\n",
        "      #spectral centroid \n",
        "      spec_cent = librosa.feature.spectral_centroid(y=y, sr=sr)\n",
        "      #spectral bandwidth    \n",
        "      spec_bw = librosa.feature.spectral_bandwidth(y=y, sr=sr)\n",
        "      #spectral roll off frequency\n",
        "      rolloff = librosa.feature.spectral_rolloff(y=y, sr=sr)\n",
        "      #zero crossing rate\n",
        "      zcr = librosa.feature.zero_crossing_rate(y)\n",
        "      #Mel-frequency cepstral coefficients\n",
        "      mfcc = librosa.feature.mfcc(y=y, sr=sr)\n",
        "      #values to add to csv\n",
        "      values = f'{file} {np.mean(chroma_stft)} {np.mean(spec_cent)} {np.mean(spec_bw)} {np.mean(rolloff)} {np.mean(zcr)}'    \n",
        "      for e in mfcc:\n",
        "        values += f' {np.mean(e)}'\n",
        "      values += f' {note}'\n",
        "      file = open(csv_path, 'a', newline='')\n",
        "      with file:\n",
        "         writer = csv.writer(file)\n",
        "         writer.writerow(values.split())"
      ],
      "execution_count": 0,
      "outputs": []
    },
    {
      "cell_type": "code",
      "metadata": {
        "id": "r9BDBoTL37VH",
        "colab_type": "code",
        "outputId": "439c6065-4d71-4ca2-d08c-96ac8854b78e",
        "colab": {
          "base_uri": "https://localhost:8080/",
          "height": 527
        }
      },
      "source": [
        "input_file = 'data.csv'\n",
        "write_to_csv(folder_path,input_file)"
      ],
      "execution_count": 8,
      "outputs": [
        {
          "output_type": "stream",
          "text": [
            "gdrive/My Drive/music_notes/do/do5.wav\n",
            "gdrive/My Drive/music_notes/do/do4.wav\n",
            "gdrive/My Drive/music_notes/do/do2.wav\n",
            "gdrive/My Drive/music_notes/do/do1.wav\n",
            "gdrive/My Drive/music_notes/do/do3.wav\n",
            "gdrive/My Drive/music_notes/do/do6.wav\n",
            "gdrive/My Drive/music_notes/re/re3.wav\n",
            "gdrive/My Drive/music_notes/re/re1.wav\n",
            "gdrive/My Drive/music_notes/re/re4.wav\n",
            "gdrive/My Drive/music_notes/re/re2.wav\n",
            "gdrive/My Drive/music_notes/mi/mi3.wav\n",
            "gdrive/My Drive/music_notes/mi/mi4.wav\n",
            "gdrive/My Drive/music_notes/mi/mi1.wav\n",
            "gdrive/My Drive/music_notes/mi/mi2.wav\n",
            "gdrive/My Drive/music_notes/fa/fa2.wav\n",
            "gdrive/My Drive/music_notes/fa/fa1.wav\n",
            "gdrive/My Drive/music_notes/fa/fa3.wav\n",
            "gdrive/My Drive/music_notes/fa/fa4.wav\n",
            "gdrive/My Drive/music_notes/sol/sol3.wav\n",
            "gdrive/My Drive/music_notes/sol/sol4.wav\n",
            "gdrive/My Drive/music_notes/sol/sol2.wav\n",
            "gdrive/My Drive/music_notes/sol/sol1.wav\n",
            "gdrive/My Drive/music_notes/la/la3.wav\n",
            "gdrive/My Drive/music_notes/la/la4.wav\n",
            "gdrive/My Drive/music_notes/la/la1.wav\n",
            "gdrive/My Drive/music_notes/la/la2.wav\n",
            "gdrive/My Drive/music_notes/si/si3.wav\n",
            "gdrive/My Drive/music_notes/si/si4.wav\n",
            "gdrive/My Drive/music_notes/si/si2.wav\n",
            "gdrive/My Drive/music_notes/si/si1.wav\n"
          ],
          "name": "stdout"
        }
      ]
    },
    {
      "cell_type": "code",
      "metadata": {
        "id": "QxdOftTr6d22",
        "colab_type": "code",
        "outputId": "33d3c8a3-eb0a-4c97-fa8e-4c1d0df9e272",
        "colab": {
          "base_uri": "https://localhost:8080/",
          "height": 136
        }
      },
      "source": [
        "test_file = 'test_data.csv'\n",
        "test_folder = os.path.join(folder_path,'test')\n",
        "write_to_csv(test_folder,test_file)"
      ],
      "execution_count": 9,
      "outputs": [
        {
          "output_type": "stream",
          "text": [
            "gdrive/My Drive/music_notes/test/do/do7.wav\n",
            "gdrive/My Drive/music_notes/test/re/re5.wav\n",
            "gdrive/My Drive/music_notes/test/mi/mi5.wav\n",
            "gdrive/My Drive/music_notes/test/fa/fa5.wav\n",
            "gdrive/My Drive/music_notes/test/sol/sol5.wav\n",
            "gdrive/My Drive/music_notes/test/la/la5.wav\n",
            "gdrive/My Drive/music_notes/test/si/si5.wav\n"
          ],
          "name": "stdout"
        }
      ]
    },
    {
      "cell_type": "markdown",
      "metadata": {
        "id": "6uxX55hL1Nl6",
        "colab_type": "text"
      },
      "source": [
        "Analyzing the Data in Pandas"
      ]
    },
    {
      "cell_type": "code",
      "metadata": {
        "id": "bD3iz6R01Mxu",
        "colab_type": "code",
        "outputId": "a5855bbc-52c9-405c-cd55-70dd265e4821",
        "colab": {
          "base_uri": "https://localhost:8080/",
          "height": 224
        }
      },
      "source": [
        "train_path = os.path.join(folder_path,input_file)\n",
        "data = pd.read_csv(train_path)\n",
        "data.head()\n"
      ],
      "execution_count": 17,
      "outputs": [
        {
          "output_type": "execute_result",
          "data": {
            "text/html": [
              "<div>\n",
              "<style scoped>\n",
              "    .dataframe tbody tr th:only-of-type {\n",
              "        vertical-align: middle;\n",
              "    }\n",
              "\n",
              "    .dataframe tbody tr th {\n",
              "        vertical-align: top;\n",
              "    }\n",
              "\n",
              "    .dataframe thead th {\n",
              "        text-align: right;\n",
              "    }\n",
              "</style>\n",
              "<table border=\"1\" class=\"dataframe\">\n",
              "  <thead>\n",
              "    <tr style=\"text-align: right;\">\n",
              "      <th></th>\n",
              "      <th>filename</th>\n",
              "      <th>chroma_stft</th>\n",
              "      <th>spectral_centroid</th>\n",
              "      <th>spectral_bandwidth</th>\n",
              "      <th>rolloff</th>\n",
              "      <th>zero_crossing_rate</th>\n",
              "      <th>mfcc1</th>\n",
              "      <th>mfcc2</th>\n",
              "      <th>mfcc3</th>\n",
              "      <th>mfcc4</th>\n",
              "      <th>mfcc5</th>\n",
              "      <th>mfcc6</th>\n",
              "      <th>mfcc7</th>\n",
              "      <th>mfcc8</th>\n",
              "      <th>mfcc9</th>\n",
              "      <th>mfcc10</th>\n",
              "      <th>mfcc11</th>\n",
              "      <th>mfcc12</th>\n",
              "      <th>mfcc13</th>\n",
              "      <th>mfcc14</th>\n",
              "      <th>mfcc15</th>\n",
              "      <th>mfcc16</th>\n",
              "      <th>mfcc17</th>\n",
              "      <th>mfcc18</th>\n",
              "      <th>mfcc19</th>\n",
              "      <th>mfcc20</th>\n",
              "      <th>label</th>\n",
              "    </tr>\n",
              "  </thead>\n",
              "  <tbody>\n",
              "    <tr>\n",
              "      <th>0</th>\n",
              "      <td>do5.wav</td>\n",
              "      <td>0.203410</td>\n",
              "      <td>1034.635601</td>\n",
              "      <td>1297.364918</td>\n",
              "      <td>2406.640164</td>\n",
              "      <td>0.052375</td>\n",
              "      <td>-365.895984</td>\n",
              "      <td>105.270306</td>\n",
              "      <td>-22.050027</td>\n",
              "      <td>42.427789</td>\n",
              "      <td>7.646846</td>\n",
              "      <td>-8.252503</td>\n",
              "      <td>0.136139</td>\n",
              "      <td>1.110385</td>\n",
              "      <td>-17.094169</td>\n",
              "      <td>-9.910869</td>\n",
              "      <td>5.205509</td>\n",
              "      <td>-6.569991</td>\n",
              "      <td>-12.231633</td>\n",
              "      <td>-2.037380</td>\n",
              "      <td>0.284443</td>\n",
              "      <td>-3.978355</td>\n",
              "      <td>-4.509466</td>\n",
              "      <td>-7.951682</td>\n",
              "      <td>-12.868644</td>\n",
              "      <td>-8.029210</td>\n",
              "      <td>do</td>\n",
              "    </tr>\n",
              "    <tr>\n",
              "      <th>1</th>\n",
              "      <td>do4.wav</td>\n",
              "      <td>0.124815</td>\n",
              "      <td>1171.407928</td>\n",
              "      <td>1234.627843</td>\n",
              "      <td>2420.947266</td>\n",
              "      <td>0.052246</td>\n",
              "      <td>-538.015907</td>\n",
              "      <td>114.644277</td>\n",
              "      <td>-4.811778</td>\n",
              "      <td>47.230737</td>\n",
              "      <td>9.735454</td>\n",
              "      <td>0.914577</td>\n",
              "      <td>7.893248</td>\n",
              "      <td>-8.788845</td>\n",
              "      <td>-0.991606</td>\n",
              "      <td>1.545233</td>\n",
              "      <td>-0.648563</td>\n",
              "      <td>17.650642</td>\n",
              "      <td>19.362541</td>\n",
              "      <td>34.929754</td>\n",
              "      <td>36.930925</td>\n",
              "      <td>3.011775</td>\n",
              "      <td>-12.488895</td>\n",
              "      <td>-28.257724</td>\n",
              "      <td>-9.758384</td>\n",
              "      <td>15.131855</td>\n",
              "      <td>do</td>\n",
              "    </tr>\n",
              "    <tr>\n",
              "      <th>2</th>\n",
              "      <td>do2.wav</td>\n",
              "      <td>0.158347</td>\n",
              "      <td>851.982849</td>\n",
              "      <td>955.621954</td>\n",
              "      <td>1359.133911</td>\n",
              "      <td>0.046556</td>\n",
              "      <td>-592.865659</td>\n",
              "      <td>91.286681</td>\n",
              "      <td>-16.027655</td>\n",
              "      <td>25.789301</td>\n",
              "      <td>6.501369</td>\n",
              "      <td>2.493707</td>\n",
              "      <td>7.785337</td>\n",
              "      <td>-7.303970</td>\n",
              "      <td>-9.840526</td>\n",
              "      <td>-5.472376</td>\n",
              "      <td>-15.956434</td>\n",
              "      <td>-14.952687</td>\n",
              "      <td>3.796558</td>\n",
              "      <td>3.034354</td>\n",
              "      <td>-5.393283</td>\n",
              "      <td>-18.194425</td>\n",
              "      <td>-16.037208</td>\n",
              "      <td>-4.045646</td>\n",
              "      <td>-8.290440</td>\n",
              "      <td>-7.369336</td>\n",
              "      <td>do</td>\n",
              "    </tr>\n",
              "    <tr>\n",
              "      <th>3</th>\n",
              "      <td>do1.wav</td>\n",
              "      <td>0.164177</td>\n",
              "      <td>1005.318429</td>\n",
              "      <td>1101.728964</td>\n",
              "      <td>1880.240146</td>\n",
              "      <td>0.055131</td>\n",
              "      <td>-490.523420</td>\n",
              "      <td>124.392996</td>\n",
              "      <td>-25.547577</td>\n",
              "      <td>50.144015</td>\n",
              "      <td>2.201610</td>\n",
              "      <td>13.484972</td>\n",
              "      <td>9.559972</td>\n",
              "      <td>-8.839733</td>\n",
              "      <td>-5.876965</td>\n",
              "      <td>-2.808042</td>\n",
              "      <td>-12.787375</td>\n",
              "      <td>-12.090681</td>\n",
              "      <td>7.177546</td>\n",
              "      <td>-4.587060</td>\n",
              "      <td>-2.461571</td>\n",
              "      <td>-12.816951</td>\n",
              "      <td>-14.962033</td>\n",
              "      <td>3.788169</td>\n",
              "      <td>-11.241454</td>\n",
              "      <td>-11.252067</td>\n",
              "      <td>do</td>\n",
              "    </tr>\n",
              "    <tr>\n",
              "      <th>4</th>\n",
              "      <td>do3.wav</td>\n",
              "      <td>0.121150</td>\n",
              "      <td>1217.114429</td>\n",
              "      <td>1231.303741</td>\n",
              "      <td>2358.747070</td>\n",
              "      <td>0.054844</td>\n",
              "      <td>-608.612714</td>\n",
              "      <td>71.691655</td>\n",
              "      <td>-8.057984</td>\n",
              "      <td>29.701671</td>\n",
              "      <td>10.348799</td>\n",
              "      <td>-0.546233</td>\n",
              "      <td>5.570629</td>\n",
              "      <td>-8.479808</td>\n",
              "      <td>-4.517708</td>\n",
              "      <td>-1.639596</td>\n",
              "      <td>-0.960709</td>\n",
              "      <td>16.880998</td>\n",
              "      <td>26.791451</td>\n",
              "      <td>39.298200</td>\n",
              "      <td>36.861435</td>\n",
              "      <td>6.888442</td>\n",
              "      <td>-12.916025</td>\n",
              "      <td>-25.914141</td>\n",
              "      <td>-8.168141</td>\n",
              "      <td>14.075324</td>\n",
              "      <td>do</td>\n",
              "    </tr>\n",
              "  </tbody>\n",
              "</table>\n",
              "</div>"
            ],
            "text/plain": [
              "  filename  chroma_stft  spectral_centroid  ...     mfcc19     mfcc20  label\n",
              "0  do5.wav     0.203410        1034.635601  ... -12.868644  -8.029210     do\n",
              "1  do4.wav     0.124815        1171.407928  ...  -9.758384  15.131855     do\n",
              "2  do2.wav     0.158347         851.982849  ...  -8.290440  -7.369336     do\n",
              "3  do1.wav     0.164177        1005.318429  ... -11.241454 -11.252067     do\n",
              "4  do3.wav     0.121150        1217.114429  ...  -8.168141  14.075324     do\n",
              "\n",
              "[5 rows x 27 columns]"
            ]
          },
          "metadata": {
            "tags": []
          },
          "execution_count": 17
        }
      ]
    },
    {
      "cell_type": "code",
      "metadata": {
        "id": "Tpx8P5I8BhkT",
        "colab_type": "code",
        "outputId": "92831381-d68b-40dd-c537-58434ccacfd0",
        "colab": {
          "base_uri": "https://localhost:8080/",
          "height": 224
        }
      },
      "source": [
        "test_path =  os.path.join(test_folder,test_file)\n",
        "test_data = pd.read_csv(test_path)\n",
        "test_data.head()"
      ],
      "execution_count": 18,
      "outputs": [
        {
          "output_type": "execute_result",
          "data": {
            "text/html": [
              "<div>\n",
              "<style scoped>\n",
              "    .dataframe tbody tr th:only-of-type {\n",
              "        vertical-align: middle;\n",
              "    }\n",
              "\n",
              "    .dataframe tbody tr th {\n",
              "        vertical-align: top;\n",
              "    }\n",
              "\n",
              "    .dataframe thead th {\n",
              "        text-align: right;\n",
              "    }\n",
              "</style>\n",
              "<table border=\"1\" class=\"dataframe\">\n",
              "  <thead>\n",
              "    <tr style=\"text-align: right;\">\n",
              "      <th></th>\n",
              "      <th>filename</th>\n",
              "      <th>chroma_stft</th>\n",
              "      <th>spectral_centroid</th>\n",
              "      <th>spectral_bandwidth</th>\n",
              "      <th>rolloff</th>\n",
              "      <th>zero_crossing_rate</th>\n",
              "      <th>mfcc1</th>\n",
              "      <th>mfcc2</th>\n",
              "      <th>mfcc3</th>\n",
              "      <th>mfcc4</th>\n",
              "      <th>mfcc5</th>\n",
              "      <th>mfcc6</th>\n",
              "      <th>mfcc7</th>\n",
              "      <th>mfcc8</th>\n",
              "      <th>mfcc9</th>\n",
              "      <th>mfcc10</th>\n",
              "      <th>mfcc11</th>\n",
              "      <th>mfcc12</th>\n",
              "      <th>mfcc13</th>\n",
              "      <th>mfcc14</th>\n",
              "      <th>mfcc15</th>\n",
              "      <th>mfcc16</th>\n",
              "      <th>mfcc17</th>\n",
              "      <th>mfcc18</th>\n",
              "      <th>mfcc19</th>\n",
              "      <th>mfcc20</th>\n",
              "      <th>label</th>\n",
              "    </tr>\n",
              "  </thead>\n",
              "  <tbody>\n",
              "    <tr>\n",
              "      <th>0</th>\n",
              "      <td>do7.wav</td>\n",
              "      <td>0.130350</td>\n",
              "      <td>1415.558633</td>\n",
              "      <td>1368.636751</td>\n",
              "      <td>2692.500385</td>\n",
              "      <td>0.081659</td>\n",
              "      <td>-439.110736</td>\n",
              "      <td>62.493340</td>\n",
              "      <td>-36.268261</td>\n",
              "      <td>12.290038</td>\n",
              "      <td>-16.274000</td>\n",
              "      <td>-20.298970</td>\n",
              "      <td>-14.052990</td>\n",
              "      <td>-19.220514</td>\n",
              "      <td>-19.924624</td>\n",
              "      <td>-11.047416</td>\n",
              "      <td>-6.344697</td>\n",
              "      <td>3.638363</td>\n",
              "      <td>19.070914</td>\n",
              "      <td>40.655711</td>\n",
              "      <td>33.698963</td>\n",
              "      <td>5.705769</td>\n",
              "      <td>-23.083674</td>\n",
              "      <td>-25.868845</td>\n",
              "      <td>-0.351497</td>\n",
              "      <td>11.563337</td>\n",
              "      <td>do</td>\n",
              "    </tr>\n",
              "    <tr>\n",
              "      <th>1</th>\n",
              "      <td>re5.wav</td>\n",
              "      <td>0.154451</td>\n",
              "      <td>3022.299619</td>\n",
              "      <td>2581.094047</td>\n",
              "      <td>6020.683594</td>\n",
              "      <td>0.116309</td>\n",
              "      <td>-309.210821</td>\n",
              "      <td>39.380132</td>\n",
              "      <td>-35.659540</td>\n",
              "      <td>-1.323781</td>\n",
              "      <td>-7.599455</td>\n",
              "      <td>9.275709</td>\n",
              "      <td>-4.745408</td>\n",
              "      <td>2.282483</td>\n",
              "      <td>-23.059859</td>\n",
              "      <td>-20.473776</td>\n",
              "      <td>-16.879001</td>\n",
              "      <td>2.795682</td>\n",
              "      <td>-8.139689</td>\n",
              "      <td>-14.272832</td>\n",
              "      <td>-25.350978</td>\n",
              "      <td>-4.097391</td>\n",
              "      <td>-0.458924</td>\n",
              "      <td>7.588152</td>\n",
              "      <td>0.418308</td>\n",
              "      <td>2.998008</td>\n",
              "      <td>re</td>\n",
              "    </tr>\n",
              "    <tr>\n",
              "      <th>2</th>\n",
              "      <td>mi5.wav</td>\n",
              "      <td>0.208470</td>\n",
              "      <td>3178.464054</td>\n",
              "      <td>2559.354830</td>\n",
              "      <td>6119.531250</td>\n",
              "      <td>0.147205</td>\n",
              "      <td>-262.226028</td>\n",
              "      <td>37.904758</td>\n",
              "      <td>-35.814984</td>\n",
              "      <td>11.601056</td>\n",
              "      <td>1.426909</td>\n",
              "      <td>10.821750</td>\n",
              "      <td>-7.205181</td>\n",
              "      <td>-7.342268</td>\n",
              "      <td>-20.317858</td>\n",
              "      <td>-11.605650</td>\n",
              "      <td>-8.199233</td>\n",
              "      <td>0.036526</td>\n",
              "      <td>-19.755362</td>\n",
              "      <td>-13.842036</td>\n",
              "      <td>-6.569777</td>\n",
              "      <td>13.872139</td>\n",
              "      <td>-1.987575</td>\n",
              "      <td>3.482113</td>\n",
              "      <td>2.363323</td>\n",
              "      <td>8.815178</td>\n",
              "      <td>mi</td>\n",
              "    </tr>\n",
              "    <tr>\n",
              "      <th>3</th>\n",
              "      <td>fa5.wav</td>\n",
              "      <td>0.168808</td>\n",
              "      <td>2555.683871</td>\n",
              "      <td>2523.227248</td>\n",
              "      <td>5259.630358</td>\n",
              "      <td>0.090820</td>\n",
              "      <td>-347.601135</td>\n",
              "      <td>62.185298</td>\n",
              "      <td>-20.006457</td>\n",
              "      <td>3.341738</td>\n",
              "      <td>0.990008</td>\n",
              "      <td>12.034780</td>\n",
              "      <td>-11.405570</td>\n",
              "      <td>-17.974685</td>\n",
              "      <td>-20.802441</td>\n",
              "      <td>-5.365228</td>\n",
              "      <td>-9.429528</td>\n",
              "      <td>-13.407004</td>\n",
              "      <td>-23.697949</td>\n",
              "      <td>-7.132253</td>\n",
              "      <td>1.380908</td>\n",
              "      <td>11.446775</td>\n",
              "      <td>0.986097</td>\n",
              "      <td>0.516837</td>\n",
              "      <td>4.144257</td>\n",
              "      <td>16.990830</td>\n",
              "      <td>fa</td>\n",
              "    </tr>\n",
              "    <tr>\n",
              "      <th>4</th>\n",
              "      <td>sol5.wav</td>\n",
              "      <td>0.200155</td>\n",
              "      <td>3138.853092</td>\n",
              "      <td>2542.261821</td>\n",
              "      <td>6073.439941</td>\n",
              "      <td>0.113135</td>\n",
              "      <td>-195.322925</td>\n",
              "      <td>31.873032</td>\n",
              "      <td>-40.595593</td>\n",
              "      <td>14.761221</td>\n",
              "      <td>0.215234</td>\n",
              "      <td>8.662658</td>\n",
              "      <td>-16.754729</td>\n",
              "      <td>-20.283837</td>\n",
              "      <td>-28.373099</td>\n",
              "      <td>-13.644941</td>\n",
              "      <td>-2.834085</td>\n",
              "      <td>-0.149431</td>\n",
              "      <td>-12.441797</td>\n",
              "      <td>12.104109</td>\n",
              "      <td>10.777366</td>\n",
              "      <td>9.269321</td>\n",
              "      <td>-0.702366</td>\n",
              "      <td>23.144380</td>\n",
              "      <td>11.542901</td>\n",
              "      <td>4.865485</td>\n",
              "      <td>sol</td>\n",
              "    </tr>\n",
              "  </tbody>\n",
              "</table>\n",
              "</div>"
            ],
            "text/plain": [
              "   filename  chroma_stft  spectral_centroid  ...     mfcc19     mfcc20  label\n",
              "0   do7.wav     0.130350        1415.558633  ...  -0.351497  11.563337     do\n",
              "1   re5.wav     0.154451        3022.299619  ...   0.418308   2.998008     re\n",
              "2   mi5.wav     0.208470        3178.464054  ...   2.363323   8.815178     mi\n",
              "3   fa5.wav     0.168808        2555.683871  ...   4.144257  16.990830     fa\n",
              "4  sol5.wav     0.200155        3138.853092  ...  11.542901   4.865485    sol\n",
              "\n",
              "[5 rows x 27 columns]"
            ]
          },
          "metadata": {
            "tags": []
          },
          "execution_count": 18
        }
      ]
    },
    {
      "cell_type": "code",
      "metadata": {
        "id": "Il3Ax14v1K65",
        "colab_type": "code",
        "outputId": "262d3b7a-ebbe-4325-d0dd-7460a3454b75",
        "colab": {
          "base_uri": "https://localhost:8080/",
          "height": 34
        }
      },
      "source": [
        "data.shape"
      ],
      "execution_count": 0,
      "outputs": [
        {
          "output_type": "execute_result",
          "data": {
            "text/plain": [
              "(35, 27)"
            ]
          },
          "metadata": {
            "tags": []
          },
          "execution_count": 182
        }
      ]
    },
    {
      "cell_type": "code",
      "metadata": {
        "id": "vqQGjBaD1jw3",
        "colab_type": "code",
        "colab": {}
      },
      "source": [
        "# Dropping unneccesary columns\n",
        "data = data.drop(['filename'],axis=1)\n",
        "test_data = test_data.drop(['filename'],axis=1)"
      ],
      "execution_count": 0,
      "outputs": []
    },
    {
      "cell_type": "code",
      "metadata": {
        "id": "hPEgDFwztWB-",
        "colab_type": "code",
        "colab": {}
      },
      "source": [
        "\n"
      ],
      "execution_count": 0,
      "outputs": []
    },
    {
      "cell_type": "markdown",
      "metadata": {
        "id": "4Cbey9471yvA",
        "colab_type": "text"
      },
      "source": [
        "\n",
        "Encoding the Labels"
      ]
    },
    {
      "cell_type": "code",
      "metadata": {
        "id": "4Z__G_dP1xNT",
        "colab_type": "code",
        "outputId": "e38911a3-e133-45c1-d25e-063f9affaebc",
        "colab": {
          "base_uri": "https://localhost:8080/",
          "height": 51
        }
      },
      "source": [
        "#encoding input training set\n",
        "genre_list = data.iloc[:, -1]\n",
        "encoder = LabelEncoder()\n",
        "y = encoder.fit_transform(genre_list)\n",
        "print(y)\n",
        "#encoding test set\n",
        "genre_list = test_data.iloc[:, -1]\n",
        "encoder = LabelEncoder()\n",
        "test_y = encoder.fit_transform(genre_list)\n",
        "print(test_y)"
      ],
      "execution_count": 25,
      "outputs": [
        {
          "output_type": "stream",
          "text": [
            "[0 0 0 0 0 0 4 4 4 4 3 3 3 3 1 1 1 1 6 6 6 6 2 2 2 2 5 5 5 5]\n",
            "[0 4 3 1 6 2 5]\n"
          ],
          "name": "stdout"
        }
      ]
    },
    {
      "cell_type": "markdown",
      "metadata": {
        "id": "JWLb1TVK2QoT",
        "colab_type": "text"
      },
      "source": [
        "Dividing data into training and Testing set"
      ]
    },
    {
      "cell_type": "code",
      "metadata": {
        "id": "0pTYMYtD2Akp",
        "colab_type": "code",
        "colab": {}
      },
      "source": [
        "scaler = StandardScaler()\n",
        "X = scaler.fit_transform(np.array(data.iloc[:, :-1], dtype = float))"
      ],
      "execution_count": 0,
      "outputs": []
    },
    {
      "cell_type": "code",
      "metadata": {
        "id": "HHVszqyC2Oj2",
        "colab_type": "code",
        "colab": {}
      },
      "source": [
        "X_train, X_test, y_train, y_test = train_test_split(X, y, test_size=0.05)"
      ],
      "execution_count": 0,
      "outputs": []
    },
    {
      "cell_type": "code",
      "metadata": {
        "id": "N_0KxXnQuNuE",
        "colab_type": "code",
        "colab": {
          "base_uri": "https://localhost:8080/",
          "height": 629
        },
        "outputId": "92a20f7e-c64d-4411-a2d6-d7eb17cde8d7"
      },
      "source": [
        "scaler = StandardScaler()\n",
        "test_X = scaler.fit_transform(np.array(test_data.iloc[:, :-1], dtype = float))\n",
        "print(test_X)\n",
        "print(test_y)"
      ],
      "execution_count": 54,
      "outputs": [
        {
          "output_type": "stream",
          "text": [
            "[[-1.42408376 -2.31454078 -2.41842693 -2.35868454 -1.35734699 -1.85482035\n",
            "   1.39439546 -0.29318181  0.56293247 -1.91049982 -1.79968447  0.29830166\n",
            "  -0.65587074  0.05336461 -0.28396977  0.45790099  0.99338531  1.86213386\n",
            "   1.82558742  1.82470215 -0.48594519 -2.03936126 -2.04904076 -0.09467532\n",
            "   0.86726959]\n",
            " [-0.49094517  0.48192549  0.59391944  0.62056783  0.0679929  -0.02280969\n",
            "  -0.31518701 -0.20814203 -1.9119383  -0.46365154  0.61067944  1.13517694\n",
            "   1.78470579 -0.31397883 -1.64288459 -1.45462521  0.83279769 -0.07156659\n",
            "  -1.13318346 -1.68761744 -2.15840449 -0.06740026  0.21454766  0.02166334\n",
            "  -0.66689175]\n",
            " [ 1.60047152  0.75372324  0.53990842  0.70905217  1.3389352   0.63982848\n",
            "  -0.42431394 -0.22985786  0.43768165  1.04187737  0.73668324  0.91401069\n",
            "   0.69230257  0.00729092 -0.36444541  0.12120594  0.3069925  -0.89702544\n",
            "  -1.10997831 -0.57050237  0.9072708  -0.20063657 -0.06325318  0.31560855\n",
            "   0.37503879]\n",
            " [ 0.0648802  -0.33019993  0.45014956 -0.06069564 -0.9804771  -0.56423779\n",
            "   1.37161091  1.97863113 -1.06378861  0.96900561  0.83554632  0.5363399\n",
            "  -0.51446997 -0.04948583  0.53518084 -0.10215691 -2.25490651 -1.17720234\n",
            "  -0.74855033 -0.09759171  0.49349378  0.05854707 -0.26387384  0.58475662\n",
            "   1.83940392]\n",
            " [ 1.27852935  0.68478199  0.4974409   0.66779314 -0.06256371  1.58337951\n",
            "  -0.87045418 -0.89772035  1.01217148  0.83977916  0.56071521  0.05537944\n",
            "  -0.77655719 -0.93651058 -0.65843188  1.0952604   0.27155506 -0.37729262\n",
            "   0.28763203  0.46131426  0.12201128 -0.08861849  1.26702995  1.70289489\n",
            "  -0.33240241]\n",
            " [-0.54025355  0.32839671  0.16142266  0.28200506 -0.4783363   0.49687326\n",
            "  -1.43506761 -1.18378686  0.81030835  0.14369818  0.36093286 -1.17230581\n",
            "  -1.23900261 -1.00068869  1.68292868  1.2532205   0.09215098 -0.36812793\n",
            "   0.68636927  0.40374647  0.11659088  1.33159201  1.02878464 -0.79179036\n",
            "  -1.02867999]\n",
            " [-0.48859859  0.39591327  0.17558595  0.13996198  1.471796   -0.27821342\n",
            "   0.27901637  0.83405779  0.15263297 -0.62020895 -1.3048726  -1.76690283\n",
            "   0.70889216  2.24000839  0.73162212 -1.37080572 -0.24197504  1.02908106\n",
            "   0.19212338 -0.33405137  1.00498294  1.0058775  -0.13419447 -1.73845772\n",
            "  -1.05373815]]\n",
            "[0 4 3 1 6 2 5]\n"
          ],
          "name": "stdout"
        }
      ]
    },
    {
      "cell_type": "code",
      "metadata": {
        "id": "v0_ECEKBuN5s",
        "colab_type": "code",
        "colab": {}
      },
      "source": [
        ""
      ],
      "execution_count": 0,
      "outputs": []
    },
    {
      "cell_type": "code",
      "metadata": {
        "id": "C67yaZhb2W-4",
        "colab_type": "code",
        "outputId": "0664c2c4-30cc-4608-98ad-382936ff8992",
        "colab": {
          "base_uri": "https://localhost:8080/",
          "height": 102
        }
      },
      "source": [
        "print(\"Len train: \", len(y_train))\n",
        "print(\"Len test: \", len(y_test))\n",
        "print(\"Train shape: \", len(X_train.shape))\n",
        "print(\"Test shape: \", len(y_train.shape))\n",
        "print(X_train.shape[:])"
      ],
      "execution_count": 55,
      "outputs": [
        {
          "output_type": "stream",
          "text": [
            "Len train:  28\n",
            "Len test:  2\n",
            "Train shape:  2\n",
            "Test shape:  1\n",
            "(28, 25)\n"
          ],
          "name": "stdout"
        }
      ]
    },
    {
      "cell_type": "code",
      "metadata": {
        "id": "YEYb3YJC3b7U",
        "colab_type": "code",
        "colab": {}
      },
      "source": [
        ""
      ],
      "execution_count": 0,
      "outputs": []
    },
    {
      "cell_type": "markdown",
      "metadata": {
        "id": "OQfITYGy2x8k",
        "colab_type": "text"
      },
      "source": [
        "\n",
        "Classification with Keras\n",
        "\n",
        "Building our Network"
      ]
    },
    {
      "cell_type": "code",
      "metadata": {
        "id": "kJJUX8jk2rtb",
        "colab_type": "code",
        "colab": {}
      },
      "source": [
        "from keras import models\n",
        "from keras import layers\n",
        "\n",
        "model = models.Sequential()\n",
        "model.add(layers.Dense(512, activation='relu', input_shape=(X_train.shape[1],)))\n",
        "model.add(layers.BatchNormalization(axis=-1, momentum=0.99, epsilon=0.001, center=True, scale=True, beta_initializer='zeros', gamma_initializer='ones', moving_mean_initializer='zeros', moving_variance_initializer='ones', beta_regularizer=None, gamma_regularizer=None, beta_constraint=None, gamma_constraint=None))\n",
        "model.add(layers.Dropout(0.4))\n",
        "\n",
        "model.add(layers.Dense(256, activation='relu'))\n",
        "model.add(layers.BatchNormalization(axis=-1, momentum=0.99, epsilon=0.001, center=True, scale=True, beta_initializer='zeros', gamma_initializer='ones', moving_mean_initializer='zeros', moving_variance_initializer='ones', beta_regularizer=None, gamma_regularizer=None, beta_constraint=None, gamma_constraint=None))\n",
        "model.add(layers.Dropout(0.3))\n",
        "\n",
        "model.add(layers.Dense(128,  activation='relu'))\n",
        "model.add(layers.BatchNormalization(axis=-1, momentum=0.99, epsilon=0.001, center=True, scale=True, beta_initializer='zeros', gamma_initializer='ones', moving_mean_initializer='zeros', moving_variance_initializer='ones', beta_regularizer=None, gamma_regularizer=None, beta_constraint=None, gamma_constraint=None))\n",
        "\n",
        "model.add(layers.Dense(64, activation='relu'))\n",
        "model.add(layers.BatchNormalization(axis=-1, momentum=0.99, epsilon=0.001, center=True, scale=True, beta_initializer='zeros', gamma_initializer='ones', moving_mean_initializer='zeros', moving_variance_initializer='ones', beta_regularizer=None, gamma_regularizer=None, beta_constraint=None, gamma_constraint=None))\n",
        "\n",
        "\n",
        "model.add(layers.Dense(7, activation='softmax'))"
      ],
      "execution_count": 0,
      "outputs": []
    },
    {
      "cell_type": "code",
      "metadata": {
        "id": "6OIc0kAM4AUG",
        "colab_type": "code",
        "colab": {}
      },
      "source": [
        "model.compile(optimizer='adam',\n",
        "              loss='sparse_categorical_crossentropy',\n",
        "              metrics=['accuracy'])"
      ],
      "execution_count": 0,
      "outputs": []
    },
    {
      "cell_type": "code",
      "metadata": {
        "id": "qxqDeIkR4C_S",
        "colab_type": "code",
        "outputId": "0921e6d4-767f-4183-acef-db3d2e7f1181",
        "colab": {
          "base_uri": "https://localhost:8080/",
          "height": 697
        }
      },
      "source": [
        "history = model.fit(X_train,\n",
        "                    y_train,\n",
        "                    epochs=20,\n",
        "                    batch_size=128)"
      ],
      "execution_count": 64,
      "outputs": [
        {
          "output_type": "stream",
          "text": [
            "Epoch 1/20\n",
            "28/28 [==============================] - 2s 66ms/step - loss: 2.4078 - acc: 0.2500\n",
            "Epoch 2/20\n",
            "28/28 [==============================] - 0s 520us/step - loss: 2.0564 - acc: 0.3571\n",
            "Epoch 3/20\n",
            "28/28 [==============================] - 0s 519us/step - loss: 1.9486 - acc: 0.3214\n",
            "Epoch 4/20\n",
            "28/28 [==============================] - 0s 443us/step - loss: 1.4851 - acc: 0.4643\n",
            "Epoch 5/20\n",
            "28/28 [==============================] - 0s 544us/step - loss: 1.3934 - acc: 0.3929\n",
            "Epoch 6/20\n",
            "28/28 [==============================] - 0s 417us/step - loss: 1.2087 - acc: 0.5714\n",
            "Epoch 7/20\n",
            "28/28 [==============================] - 0s 438us/step - loss: 0.9162 - acc: 0.7500\n",
            "Epoch 8/20\n",
            "28/28 [==============================] - 0s 477us/step - loss: 0.9606 - acc: 0.6071\n",
            "Epoch 9/20\n",
            "28/28 [==============================] - 0s 518us/step - loss: 0.7559 - acc: 0.7500\n",
            "Epoch 10/20\n",
            "28/28 [==============================] - 0s 538us/step - loss: 0.5494 - acc: 0.8571\n",
            "Epoch 11/20\n",
            "28/28 [==============================] - 0s 600us/step - loss: 0.5930 - acc: 0.7500\n",
            "Epoch 12/20\n",
            "28/28 [==============================] - 0s 620us/step - loss: 0.5343 - acc: 0.8214\n",
            "Epoch 13/20\n",
            "28/28 [==============================] - 0s 560us/step - loss: 0.5460 - acc: 0.7857\n",
            "Epoch 14/20\n",
            "28/28 [==============================] - 0s 739us/step - loss: 0.4589 - acc: 0.9286\n",
            "Epoch 15/20\n",
            "28/28 [==============================] - 0s 718us/step - loss: 0.2804 - acc: 1.0000\n",
            "Epoch 16/20\n",
            "28/28 [==============================] - 0s 741us/step - loss: 0.4612 - acc: 0.9286\n",
            "Epoch 17/20\n",
            "28/28 [==============================] - 0s 839us/step - loss: 0.3868 - acc: 0.9643\n",
            "Epoch 18/20\n",
            "28/28 [==============================] - 0s 788us/step - loss: 0.3098 - acc: 0.8929\n",
            "Epoch 19/20\n",
            "28/28 [==============================] - 0s 815us/step - loss: 0.3198 - acc: 0.9643\n",
            "Epoch 20/20\n",
            "28/28 [==============================] - 0s 751us/step - loss: 0.2771 - acc: 0.9643\n"
          ],
          "name": "stdout"
        }
      ]
    },
    {
      "cell_type": "code",
      "metadata": {
        "id": "Vwcys3Xs4Po3",
        "colab_type": "code",
        "outputId": "747cee55-9649-4048-e70e-efa6c33ba745",
        "colab": {
          "base_uri": "https://localhost:8080/",
          "height": 51
        }
      },
      "source": [
        "\n",
        "test_loss, test_acc = model.evaluate(X_test,y_test)\n",
        "train_loss, train_acc = model.evaluate(X_train, y_train)"
      ],
      "execution_count": 89,
      "outputs": [
        {
          "output_type": "stream",
          "text": [
            "2/2 [==============================] - 0s 4ms/step\n",
            "28/28 [==============================] - 0s 379us/step\n"
          ],
          "name": "stdout"
        }
      ]
    },
    {
      "cell_type": "code",
      "metadata": {
        "id": "gUKa8wBD4Pn-",
        "colab_type": "code",
        "outputId": "993fa800-4d84-4f3f-af66-43dc29ad2f1f",
        "colab": {
          "base_uri": "https://localhost:8080/",
          "height": 51
        }
      },
      "source": [
        "print('test_acc: ',test_acc)\n",
        "print('train_acc: ',train_acc)"
      ],
      "execution_count": 90,
      "outputs": [
        {
          "output_type": "stream",
          "text": [
            "test_acc:  1.0\n",
            "train_acc:  1.0\n"
          ],
          "name": "stdout"
        }
      ]
    },
    {
      "cell_type": "markdown",
      "metadata": {
        "id": "wV6BrHBtvwmk",
        "colab_type": "text"
      },
      "source": [
        "Save output model"
      ]
    },
    {
      "cell_type": "code",
      "metadata": {
        "id": "YP3FeJK_vv2Q",
        "colab_type": "code",
        "colab": {}
      },
      "source": [
        ""
      ],
      "execution_count": 0,
      "outputs": []
    },
    {
      "cell_type": "code",
      "metadata": {
        "id": "I-w_YxX37Fse",
        "colab_type": "code",
        "outputId": "66fbb191-9958-4c4e-ba63-6a030a832a0b",
        "colab": {
          "base_uri": "https://localhost:8080/",
          "height": 204
        }
      },
      "source": [
        "print(X_test)\n",
        "print(y_test)"
      ],
      "execution_count": 67,
      "outputs": [
        {
          "output_type": "stream",
          "text": [
            "[[-0.59289949 -1.18190026 -1.37984163 -1.07102958 -0.62478956 -1.48788065\n",
            "   0.43084119  1.22660828 -0.2964794   1.03834578  0.29023486  0.11440022\n",
            "  -0.25853722 -0.11408732  0.06263165 -0.08669817 -0.66438796 -0.5114786\n",
            "  -0.41536783  0.31777111  1.56613945  2.04607497  2.20085887  1.60436346\n",
            "  -0.5868729 ]\n",
            " [-0.32592053  1.1326553   1.32495247  1.28438347 -0.17741183  0.6328692\n",
            "  -1.04207671 -0.53094342  0.13373931 -0.31876051 -1.53103808 -1.49099711\n",
            "  -0.92618413 -0.68574809 -0.42764829 -0.54175368 -0.66703569 -0.70235445\n",
            "  -0.4467981  -0.55703471  0.33928051  1.04571056  1.00459405  1.57639135\n",
            "   1.03083212]]\n",
            "[5 6]\n"
          ],
          "name": "stdout"
        }
      ]
    },
    {
      "cell_type": "code",
      "metadata": {
        "id": "ETIt0B0r7VQc",
        "colab_type": "code",
        "outputId": "4e904845-5f49-4d63-affe-050ead8163da",
        "colab": {
          "base_uri": "https://localhost:8080/",
          "height": 34
        }
      },
      "source": [
        "predictions = model.predict(X_test)\n",
        "predictions[1].shape"
      ],
      "execution_count": 69,
      "outputs": [
        {
          "output_type": "execute_result",
          "data": {
            "text/plain": [
              "(7,)"
            ]
          },
          "metadata": {
            "tags": []
          },
          "execution_count": 69
        }
      ]
    },
    {
      "cell_type": "code",
      "metadata": {
        "id": "lG8wKHC67gHS",
        "colab_type": "code",
        "outputId": "abd60a26-2548-488f-a558-e4847a5de6c5",
        "colab": {
          "base_uri": "https://localhost:8080/",
          "height": 34
        }
      },
      "source": [
        "np.sum(predictions[0])"
      ],
      "execution_count": 71,
      "outputs": [
        {
          "output_type": "execute_result",
          "data": {
            "text/plain": [
              "1.0000001"
            ]
          },
          "metadata": {
            "tags": []
          },
          "execution_count": 71
        }
      ]
    },
    {
      "cell_type": "code",
      "metadata": {
        "id": "qT0fjU4t7gJV",
        "colab_type": "code",
        "outputId": "ebb113c6-584c-4202-fcc2-e513605ee3b2",
        "colab": {
          "base_uri": "https://localhost:8080/",
          "height": 34
        }
      },
      "source": [
        "\n",
        "np.argmax(predictions[0])"
      ],
      "execution_count": 73,
      "outputs": [
        {
          "output_type": "execute_result",
          "data": {
            "text/plain": [
              "5"
            ]
          },
          "metadata": {
            "tags": []
          },
          "execution_count": 73
        }
      ]
    },
    {
      "cell_type": "code",
      "metadata": {
        "id": "f08_mcJC0A8x",
        "colab_type": "code",
        "colab": {}
      },
      "source": [
        ""
      ],
      "execution_count": 0,
      "outputs": []
    },
    {
      "cell_type": "markdown",
      "metadata": {
        "id": "v93CsfkK0BWI",
        "colab_type": "text"
      },
      "source": [
        "Validation set\n"
      ]
    },
    {
      "cell_type": "code",
      "metadata": {
        "id": "9NBEC5hF2DEL",
        "colab_type": "code",
        "colab": {
          "base_uri": "https://localhost:8080/",
          "height": 34
        },
        "outputId": "8f41c7d1-0ff2-4906-875e-1afee747e6f2"
      },
      "source": [
        "print(test_y)"
      ],
      "execution_count": 74,
      "outputs": [
        {
          "output_type": "stream",
          "text": [
            "[0 4 3 1 6 2 5]\n"
          ],
          "name": "stdout"
        }
      ]
    },
    {
      "cell_type": "code",
      "metadata": {
        "id": "jyMu4Eql0E_n",
        "colab_type": "code",
        "colab": {
          "base_uri": "https://localhost:8080/",
          "height": 255
        },
        "outputId": "d32210ab-4071-4ca2-b694-7d8ac9e68d26"
      },
      "source": [
        "predictions = model.predict(test_X)\n",
        "predictions[1].shape\n",
        "print(predictions)"
      ],
      "execution_count": 91,
      "outputs": [
        {
          "output_type": "stream",
          "text": [
            "[[0.3405611  0.31056055 0.04287396 0.12494399 0.14642347 0.01919767\n",
            "  0.01543934]\n",
            " [0.03004034 0.12944601 0.01771532 0.19330592 0.3117096  0.01360088\n",
            "  0.30418196]\n",
            " [0.16756076 0.05909    0.01470815 0.05672877 0.02697715 0.2496405\n",
            "  0.4252947 ]\n",
            " [0.05908111 0.05165888 0.03610993 0.24784349 0.07625093 0.05085375\n",
            "  0.478202  ]\n",
            " [0.289681   0.1247766  0.03845653 0.02057672 0.08344382 0.09136975\n",
            "  0.35169557]\n",
            " [0.07310047 0.05109132 0.27315766 0.13901642 0.23355308 0.1430211\n",
            "  0.08705993]\n",
            " [0.09410299 0.06364977 0.642087   0.01478247 0.02982165 0.11103052\n",
            "  0.04452555]]\n"
          ],
          "name": "stdout"
        }
      ]
    },
    {
      "cell_type": "code",
      "metadata": {
        "id": "WoJMh_vI2bMr",
        "colab_type": "code",
        "colab": {
          "base_uri": "https://localhost:8080/",
          "height": 136
        },
        "outputId": "e9c11932-f01b-470f-ec1b-e466e5761e02"
      },
      "source": [
        "for i in range(0,7):\n",
        "  print(np.argmax(predictions[i]))"
      ],
      "execution_count": 93,
      "outputs": [
        {
          "output_type": "stream",
          "text": [
            "0\n",
            "4\n",
            "6\n",
            "6\n",
            "6\n",
            "2\n",
            "2\n"
          ],
          "name": "stdout"
        }
      ]
    }
  ]
}