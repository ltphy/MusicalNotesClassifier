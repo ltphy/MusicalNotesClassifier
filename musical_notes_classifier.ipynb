{
  "nbformat": 4,
  "nbformat_minor": 0,
  "metadata": {
    "colab": {
      "name": "musical_notes_classifier.ipynb",
      "provenance": [],
      "collapsed_sections": [],
      "include_colab_link": true
    },
    "kernelspec": {
      "name": "python3",
      "display_name": "Python 3"
    },
    "accelerator": "GPU"
  },
  "cells": [
    {
      "cell_type": "markdown",
      "metadata": {
        "id": "view-in-github",
        "colab_type": "text"
      },
      "source": [
        "<a href=\"https://colab.research.google.com/github/ltphy/MusicalNotesClassifier/blob/master/musical_notes_classifier.ipynb\" target=\"_parent\"><img src=\"https://colab.research.google.com/assets/colab-badge.svg\" alt=\"Open In Colab\"/></a>"
      ]
    },
    {
      "cell_type": "code",
      "metadata": {
        "id": "3RrY8g3g21K6",
        "colab_type": "code",
        "outputId": "21661465-62dc-487d-86f9-862c3665e19b",
        "colab": {
          "base_uri": "https://localhost:8080/",
          "height": 34
        }
      },
      "source": [
        "# Mount Data From Drive\n",
        "from google.colab import drive \n",
        "drive.mount('/content/gdrive', force_remount=True)"
      ],
      "execution_count": 176,
      "outputs": [
        {
          "output_type": "stream",
          "text": [
            "Mounted at /content/gdrive\n"
          ],
          "name": "stdout"
        }
      ]
    },
    {
      "cell_type": "markdown",
      "metadata": {
        "id": "lKOoxWZa3EhA",
        "colab_type": "text"
      },
      "source": [
        "Import Libraries"
      ]
    },
    {
      "cell_type": "code",
      "metadata": {
        "id": "ejFtfWUE3CVU",
        "colab_type": "code",
        "colab": {}
      },
      "source": [
        "import librosa\n",
        "import pandas as pd \n",
        "import numpy as np\n",
        "import matplotlib.pyplot as plt\n",
        "%matplotlib inline\n",
        "import os\n",
        "from PIL import Image\n",
        "import pathlib\n",
        "import csv\n",
        "\n",
        "# Preprocessing\n",
        "from sklearn.model_selection import train_test_split\n",
        "from sklearn.preprocessing import LabelEncoder, StandardScaler\n",
        "\n",
        "#Keras\n",
        "import keras\n",
        "\n",
        "import warnings\n",
        "warnings.filterwarnings('ignore')"
      ],
      "execution_count": 0,
      "outputs": []
    },
    {
      "cell_type": "markdown",
      "metadata": {
        "id": "QJAO_u9F3SN3",
        "colab_type": "text"
      },
      "source": [
        "Extracting music notes\n",
        "\n",
        "Dataset:https://freesound.org/people/Jaz_the_MAN_2/\n",
        "\n",
        "The dataset consists of 7 musical sound notes:\n",
        "\n",
        "*   Do\n",
        "*   Re\n",
        "*   Mi\n",
        "*   Fa\n",
        "*   Son\n",
        "*   La\n",
        "*   Si\n",
        "\n",
        "\n"
      ]
    },
    {
      "cell_type": "code",
      "metadata": {
        "id": "5aCitvfY3OzA",
        "colab_type": "code",
        "outputId": "182ae8cf-39c0-4c9b-d7ae-3eb1fe88c17d",
        "colab": {
          "base_uri": "https://localhost:8080/",
          "height": 867
        }
      },
      "source": [
        "cmap = plt.get_cmap('inferno')\n",
        "plt.figure(figsize=(10,10))\n",
        "\n",
        "musical_notes = 'do re mi fa sol la si'.split(' ')\n",
        "folder_path = 'gdrive/My Drive/music_notes/'\n",
        "for note in musical_notes:\n",
        "  count = 0\n",
        "  output_folder = os.path.join(folder_path,'img_data',note )\n",
        "  pathlib.Path(output_folder).mkdir(parents=True, exist_ok=True)  \n",
        "  folder_note = os.path.join(folder_path,note)\n",
        "  print(folder_note)\n",
        "  files = os.listdir(folder_note)\n",
        "  print(files)\n",
        "  for file in files:\n",
        "    file_path = os.path.join(folder_note,file)\n",
        "    count+=1\n",
        "    y, sr = librosa.load(file_path, mono=True, duration=5)\n",
        "    plt.specgram(y, NFFT=2048, Fs=2, Fc=0, noverlap=128, cmap=cmap, sides='default', mode='default', scale='dB');\n",
        "    plt.axis('off');\n",
        "    output_file_path =os.path.join(output_folder,note + str(count) + '.png')\n",
        "    print(output_file_path)\n",
        "    plt.savefig(output_file_path)\n",
        "    plt.clf()"
      ],
      "execution_count": 178,
      "outputs": [
        {
          "output_type": "stream",
          "text": [
            "gdrive/My Drive/music_notes/do\n",
            "['do2.wav', 'do4.wav', 'do1.wav', 'do3.wav', 'do6.wav', 'do5.wav']\n",
            "gdrive/My Drive/music_notes/img_data/do/do1.png\n",
            "gdrive/My Drive/music_notes/img_data/do/do2.png\n",
            "gdrive/My Drive/music_notes/img_data/do/do3.png\n",
            "gdrive/My Drive/music_notes/img_data/do/do4.png\n",
            "gdrive/My Drive/music_notes/img_data/do/do5.png\n",
            "gdrive/My Drive/music_notes/img_data/do/do6.png\n",
            "gdrive/My Drive/music_notes/re\n",
            "['re5.wav', 're2.wav', 're1.wav', 're4.wav', 're3.wav']\n",
            "gdrive/My Drive/music_notes/img_data/re/re1.png\n",
            "gdrive/My Drive/music_notes/img_data/re/re2.png\n",
            "gdrive/My Drive/music_notes/img_data/re/re3.png\n",
            "gdrive/My Drive/music_notes/img_data/re/re4.png\n",
            "gdrive/My Drive/music_notes/img_data/re/re5.png\n",
            "gdrive/My Drive/music_notes/mi\n",
            "['mi5.wav', 'mi1.wav', 'mi4.wav', 'mi3.wav', 'mi2.wav']\n",
            "gdrive/My Drive/music_notes/img_data/mi/mi1.png\n",
            "gdrive/My Drive/music_notes/img_data/mi/mi2.png\n",
            "gdrive/My Drive/music_notes/img_data/mi/mi3.png\n",
            "gdrive/My Drive/music_notes/img_data/mi/mi4.png\n",
            "gdrive/My Drive/music_notes/img_data/mi/mi5.png\n",
            "gdrive/My Drive/music_notes/fa\n",
            "['fa4.wav', 'fa3.wav', 'fa5.wav', 'fa1.wav', 'fa2.wav']\n",
            "gdrive/My Drive/music_notes/img_data/fa/fa1.png\n",
            "gdrive/My Drive/music_notes/img_data/fa/fa2.png\n",
            "gdrive/My Drive/music_notes/img_data/fa/fa3.png\n",
            "gdrive/My Drive/music_notes/img_data/fa/fa4.png\n",
            "gdrive/My Drive/music_notes/img_data/fa/fa5.png\n",
            "gdrive/My Drive/music_notes/sol\n",
            "['sol4.wav', 'sol5.wav', 'sol3.wav', 'sol1.wav', 'sol2.wav']\n",
            "gdrive/My Drive/music_notes/img_data/sol/sol1.png\n",
            "gdrive/My Drive/music_notes/img_data/sol/sol2.png\n",
            "gdrive/My Drive/music_notes/img_data/sol/sol3.png\n",
            "gdrive/My Drive/music_notes/img_data/sol/sol4.png\n",
            "gdrive/My Drive/music_notes/img_data/sol/sol5.png\n",
            "gdrive/My Drive/music_notes/la\n",
            "['la4.wav', 'la5.wav', 'la3.wav', 'la2.wav', 'la1.wav']\n",
            "gdrive/My Drive/music_notes/img_data/la/la1.png\n",
            "gdrive/My Drive/music_notes/img_data/la/la2.png\n",
            "gdrive/My Drive/music_notes/img_data/la/la3.png\n",
            "gdrive/My Drive/music_notes/img_data/la/la4.png\n",
            "gdrive/My Drive/music_notes/img_data/la/la5.png\n",
            "gdrive/My Drive/music_notes/si\n",
            "['si4.wav', 'si3.wav', 'si2.wav', 'si1.wav']\n",
            "gdrive/My Drive/music_notes/img_data/si/si1.png\n",
            "gdrive/My Drive/music_notes/img_data/si/si2.png\n",
            "gdrive/My Drive/music_notes/img_data/si/si3.png\n",
            "gdrive/My Drive/music_notes/img_data/si/si4.png\n"
          ],
          "name": "stdout"
        },
        {
          "output_type": "display_data",
          "data": {
            "text/plain": [
              "<Figure size 720x720 with 0 Axes>"
            ]
          },
          "metadata": {
            "tags": []
          }
        }
      ]
    },
    {
      "cell_type": "markdown",
      "metadata": {
        "id": "_D6d_AMNAxTJ",
        "colab_type": "text"
      },
      "source": [
        "Extracting features from spectrogram\n",
        "\n",
        "We will extract\n",
        "\n",
        "Mel-frequency cepstral coefficients (MFCC)(20 in number)\n",
        "\n",
        "Spectral Centroid,\n",
        "\n",
        "Zero Crossing Rate\n",
        "\n",
        "Chroma Frequencies\n",
        "\n",
        "Spectral Roll-of\n"
      ]
    },
    {
      "cell_type": "code",
      "metadata": {
        "id": "xwei5ircAsJV",
        "colab_type": "code",
        "outputId": "0c8f666b-cd2d-4599-f554-e569e0f2e642",
        "colab": {
          "base_uri": "https://localhost:8080/",
          "height": 54
        }
      },
      "source": [
        "header = 'filename chroma_stft spectral_centroid spectral_bandwidth rolloff zero_crossing_rate'\n",
        "for i in range(1, 21):\n",
        "    header += f' mfcc{i}'\n",
        "header += ' label'\n",
        "header = header.split()\n",
        "print(header)"
      ],
      "execution_count": 179,
      "outputs": [
        {
          "output_type": "stream",
          "text": [
            "['filename', 'chroma_stft', 'spectral_centroid', 'spectral_bandwidth', 'rolloff', 'zero_crossing_rate', 'mfcc1', 'mfcc2', 'mfcc3', 'mfcc4', 'mfcc5', 'mfcc6', 'mfcc7', 'mfcc8', 'mfcc9', 'mfcc10', 'mfcc11', 'mfcc12', 'mfcc13', 'mfcc14', 'mfcc15', 'mfcc16', 'mfcc17', 'mfcc18', 'mfcc19', 'mfcc20', 'label']\n"
          ],
          "name": "stdout"
        }
      ]
    },
    {
      "cell_type": "markdown",
      "metadata": {
        "id": "Y2FMAQNDDB2U",
        "colab_type": "text"
      },
      "source": [
        "Writing data to a CSV file\n"
      ]
    },
    {
      "cell_type": "code",
      "metadata": {
        "id": "wDRdz-lrC93j",
        "colab_type": "code",
        "colab": {}
      },
      "source": [
        "def write_to_csv(folder_path, file_name):\n",
        "  csv_path = os.path.join(folder_path,file_name)\n",
        "  file = open(csv_path,'w',newline ='')\n",
        "  with file:\n",
        "    writer = csv.writer(file)\n",
        "    writer.writerow(header)\n",
        "  for note in musical_notes:\n",
        "    image_folder = os.path.join(folder_path,note )\n",
        "    image_files = os.listdir(image_folder)\n",
        "    for file in image_files:\n",
        "      image_path = os.path.join(image_folder,file)\n",
        "      print(image_path)\n",
        "      #load audio file\n",
        "      y, sr = librosa.load(image_path, mono=True, duration= 3)\n",
        "      #chroma feature\n",
        "      chroma_stft = librosa.feature.chroma_stft(y=y, sr=sr)\n",
        "      #spectral centroid \n",
        "      spec_cent = librosa.feature.spectral_centroid(y=y, sr=sr)\n",
        "      #spectral bandwidth    \n",
        "      spec_bw = librosa.feature.spectral_bandwidth(y=y, sr=sr)\n",
        "      #spectral roll off frequency\n",
        "      rolloff = librosa.feature.spectral_rolloff(y=y, sr=sr)\n",
        "      #zero crossing rate\n",
        "      zcr = librosa.feature.zero_crossing_rate(y)\n",
        "      #Mel-frequency cepstral coefficients\n",
        "      mfcc = librosa.feature.mfcc(y=y, sr=sr)\n",
        "      #values to add to csv\n",
        "      values = f'{file} {np.mean(chroma_stft)} {np.mean(spec_cent)} {np.mean(spec_bw)} {np.mean(rolloff)} {np.mean(zcr)}'    \n",
        "      for e in mfcc:\n",
        "        values += f' {np.mean(e)}'\n",
        "      values += f' {note}'\n",
        "      file = open(csv_path, 'a', newline='')\n",
        "      with file:\n",
        "         writer = csv.writer(file)\n",
        "         writer.writerow(values.split())"
      ],
      "execution_count": 0,
      "outputs": []
    },
    {
      "cell_type": "code",
      "metadata": {
        "id": "r9BDBoTL37VH",
        "colab_type": "code",
        "colab": {
          "base_uri": "https://localhost:8080/",
          "height": 527
        },
        "outputId": "048b5309-bf97-4faa-e9c2-52cf9c33b856"
      },
      "source": [
        "input_file = 'data.csv'\n",
        "write_to_csv(folder_path,input_file)"
      ],
      "execution_count": 220,
      "outputs": [
        {
          "output_type": "stream",
          "text": [
            "gdrive/My Drive/music_notes/do/do2.wav\n",
            "gdrive/My Drive/music_notes/do/do4.wav\n",
            "gdrive/My Drive/music_notes/do/do1.wav\n",
            "gdrive/My Drive/music_notes/do/do3.wav\n",
            "gdrive/My Drive/music_notes/do/do6.wav\n",
            "gdrive/My Drive/music_notes/do/do5.wav\n",
            "gdrive/My Drive/music_notes/re/re2.wav\n",
            "gdrive/My Drive/music_notes/re/re1.wav\n",
            "gdrive/My Drive/music_notes/re/re4.wav\n",
            "gdrive/My Drive/music_notes/re/re3.wav\n",
            "gdrive/My Drive/music_notes/mi/mi1.wav\n",
            "gdrive/My Drive/music_notes/mi/mi4.wav\n",
            "gdrive/My Drive/music_notes/mi/mi3.wav\n",
            "gdrive/My Drive/music_notes/mi/mi2.wav\n",
            "gdrive/My Drive/music_notes/fa/fa4.wav\n",
            "gdrive/My Drive/music_notes/fa/fa3.wav\n",
            "gdrive/My Drive/music_notes/fa/fa1.wav\n",
            "gdrive/My Drive/music_notes/fa/fa2.wav\n",
            "gdrive/My Drive/music_notes/sol/sol4.wav\n",
            "gdrive/My Drive/music_notes/sol/sol3.wav\n",
            "gdrive/My Drive/music_notes/sol/sol1.wav\n",
            "gdrive/My Drive/music_notes/sol/sol2.wav\n",
            "gdrive/My Drive/music_notes/la/la4.wav\n",
            "gdrive/My Drive/music_notes/la/la3.wav\n",
            "gdrive/My Drive/music_notes/la/la2.wav\n",
            "gdrive/My Drive/music_notes/la/la1.wav\n",
            "gdrive/My Drive/music_notes/si/si4.wav\n",
            "gdrive/My Drive/music_notes/si/si3.wav\n",
            "gdrive/My Drive/music_notes/si/si2.wav\n",
            "gdrive/My Drive/music_notes/si/si1.wav\n"
          ],
          "name": "stdout"
        }
      ]
    },
    {
      "cell_type": "code",
      "metadata": {
        "id": "QxdOftTr6d22",
        "colab_type": "code",
        "colab": {}
      },
      "source": [
        "input_file = 'data.csv'\n",
        "write_to_csv(test_file)"
      ],
      "execution_count": 0,
      "outputs": []
    },
    {
      "cell_type": "markdown",
      "metadata": {
        "id": "6uxX55hL1Nl6",
        "colab_type": "text"
      },
      "source": [
        "Analyzing the Data in Pandas"
      ]
    },
    {
      "cell_type": "code",
      "metadata": {
        "id": "bD3iz6R01Mxu",
        "colab_type": "code",
        "outputId": "d46acc70-cb81-4095-e692-b3e3f10c6c70",
        "colab": {
          "base_uri": "https://localhost:8080/",
          "height": 224
        }
      },
      "source": [
        "\n",
        "data = pd.read_csv(csv_path)\n",
        "data.head()\n"
      ],
      "execution_count": 181,
      "outputs": [
        {
          "output_type": "execute_result",
          "data": {
            "text/html": [
              "<div>\n",
              "<style scoped>\n",
              "    .dataframe tbody tr th:only-of-type {\n",
              "        vertical-align: middle;\n",
              "    }\n",
              "\n",
              "    .dataframe tbody tr th {\n",
              "        vertical-align: top;\n",
              "    }\n",
              "\n",
              "    .dataframe thead th {\n",
              "        text-align: right;\n",
              "    }\n",
              "</style>\n",
              "<table border=\"1\" class=\"dataframe\">\n",
              "  <thead>\n",
              "    <tr style=\"text-align: right;\">\n",
              "      <th></th>\n",
              "      <th>filename</th>\n",
              "      <th>chroma_stft</th>\n",
              "      <th>spectral_centroid</th>\n",
              "      <th>spectral_bandwidth</th>\n",
              "      <th>rolloff</th>\n",
              "      <th>zero_crossing_rate</th>\n",
              "      <th>mfcc1</th>\n",
              "      <th>mfcc2</th>\n",
              "      <th>mfcc3</th>\n",
              "      <th>mfcc4</th>\n",
              "      <th>mfcc5</th>\n",
              "      <th>mfcc6</th>\n",
              "      <th>mfcc7</th>\n",
              "      <th>mfcc8</th>\n",
              "      <th>mfcc9</th>\n",
              "      <th>mfcc10</th>\n",
              "      <th>mfcc11</th>\n",
              "      <th>mfcc12</th>\n",
              "      <th>mfcc13</th>\n",
              "      <th>mfcc14</th>\n",
              "      <th>mfcc15</th>\n",
              "      <th>mfcc16</th>\n",
              "      <th>mfcc17</th>\n",
              "      <th>mfcc18</th>\n",
              "      <th>mfcc19</th>\n",
              "      <th>mfcc20</th>\n",
              "      <th>label</th>\n",
              "    </tr>\n",
              "  </thead>\n",
              "  <tbody>\n",
              "    <tr>\n",
              "      <th>0</th>\n",
              "      <td>do2.wav</td>\n",
              "      <td>0.158347</td>\n",
              "      <td>851.982849</td>\n",
              "      <td>955.621954</td>\n",
              "      <td>1359.133911</td>\n",
              "      <td>0.046556</td>\n",
              "      <td>-592.865659</td>\n",
              "      <td>91.286681</td>\n",
              "      <td>-16.027655</td>\n",
              "      <td>25.789301</td>\n",
              "      <td>6.501369</td>\n",
              "      <td>2.493707</td>\n",
              "      <td>7.785337</td>\n",
              "      <td>-7.303970</td>\n",
              "      <td>-9.840526</td>\n",
              "      <td>-5.472376</td>\n",
              "      <td>-15.956434</td>\n",
              "      <td>-14.952687</td>\n",
              "      <td>3.796558</td>\n",
              "      <td>3.034354</td>\n",
              "      <td>-5.393283</td>\n",
              "      <td>-18.194425</td>\n",
              "      <td>-16.037208</td>\n",
              "      <td>-4.045646</td>\n",
              "      <td>-8.290440</td>\n",
              "      <td>-7.369336</td>\n",
              "      <td>do</td>\n",
              "    </tr>\n",
              "    <tr>\n",
              "      <th>1</th>\n",
              "      <td>do4.wav</td>\n",
              "      <td>0.124815</td>\n",
              "      <td>1171.407928</td>\n",
              "      <td>1234.627843</td>\n",
              "      <td>2420.947266</td>\n",
              "      <td>0.052246</td>\n",
              "      <td>-538.015907</td>\n",
              "      <td>114.644277</td>\n",
              "      <td>-4.811778</td>\n",
              "      <td>47.230737</td>\n",
              "      <td>9.735454</td>\n",
              "      <td>0.914577</td>\n",
              "      <td>7.893248</td>\n",
              "      <td>-8.788845</td>\n",
              "      <td>-0.991606</td>\n",
              "      <td>1.545233</td>\n",
              "      <td>-0.648563</td>\n",
              "      <td>17.650642</td>\n",
              "      <td>19.362541</td>\n",
              "      <td>34.929754</td>\n",
              "      <td>36.930925</td>\n",
              "      <td>3.011775</td>\n",
              "      <td>-12.488895</td>\n",
              "      <td>-28.257724</td>\n",
              "      <td>-9.758384</td>\n",
              "      <td>15.131855</td>\n",
              "      <td>do</td>\n",
              "    </tr>\n",
              "    <tr>\n",
              "      <th>2</th>\n",
              "      <td>do1.wav</td>\n",
              "      <td>0.164177</td>\n",
              "      <td>1005.318429</td>\n",
              "      <td>1101.728964</td>\n",
              "      <td>1880.240146</td>\n",
              "      <td>0.055131</td>\n",
              "      <td>-490.523420</td>\n",
              "      <td>124.392996</td>\n",
              "      <td>-25.547577</td>\n",
              "      <td>50.144015</td>\n",
              "      <td>2.201610</td>\n",
              "      <td>13.484972</td>\n",
              "      <td>9.559972</td>\n",
              "      <td>-8.839733</td>\n",
              "      <td>-5.876965</td>\n",
              "      <td>-2.808042</td>\n",
              "      <td>-12.787375</td>\n",
              "      <td>-12.090681</td>\n",
              "      <td>7.177546</td>\n",
              "      <td>-4.587060</td>\n",
              "      <td>-2.461571</td>\n",
              "      <td>-12.816951</td>\n",
              "      <td>-14.962033</td>\n",
              "      <td>3.788169</td>\n",
              "      <td>-11.241454</td>\n",
              "      <td>-11.252067</td>\n",
              "      <td>do</td>\n",
              "    </tr>\n",
              "    <tr>\n",
              "      <th>3</th>\n",
              "      <td>do3.wav</td>\n",
              "      <td>0.121150</td>\n",
              "      <td>1217.114429</td>\n",
              "      <td>1231.303741</td>\n",
              "      <td>2358.747070</td>\n",
              "      <td>0.054844</td>\n",
              "      <td>-608.612714</td>\n",
              "      <td>71.691655</td>\n",
              "      <td>-8.057984</td>\n",
              "      <td>29.701671</td>\n",
              "      <td>10.348799</td>\n",
              "      <td>-0.546233</td>\n",
              "      <td>5.570629</td>\n",
              "      <td>-8.479808</td>\n",
              "      <td>-4.517708</td>\n",
              "      <td>-1.639596</td>\n",
              "      <td>-0.960709</td>\n",
              "      <td>16.880998</td>\n",
              "      <td>26.791451</td>\n",
              "      <td>39.298200</td>\n",
              "      <td>36.861435</td>\n",
              "      <td>6.888442</td>\n",
              "      <td>-12.916025</td>\n",
              "      <td>-25.914141</td>\n",
              "      <td>-8.168141</td>\n",
              "      <td>14.075324</td>\n",
              "      <td>do</td>\n",
              "    </tr>\n",
              "    <tr>\n",
              "      <th>4</th>\n",
              "      <td>do6.wav</td>\n",
              "      <td>0.147190</td>\n",
              "      <td>1365.176287</td>\n",
              "      <td>1508.502313</td>\n",
              "      <td>2624.949981</td>\n",
              "      <td>0.054842</td>\n",
              "      <td>-344.571627</td>\n",
              "      <td>77.201061</td>\n",
              "      <td>-33.963670</td>\n",
              "      <td>49.871048</td>\n",
              "      <td>-17.938416</td>\n",
              "      <td>-1.279743</td>\n",
              "      <td>-13.977491</td>\n",
              "      <td>-4.673605</td>\n",
              "      <td>-13.061176</td>\n",
              "      <td>-17.105556</td>\n",
              "      <td>-13.280224</td>\n",
              "      <td>-5.419820</td>\n",
              "      <td>-6.945437</td>\n",
              "      <td>-8.847891</td>\n",
              "      <td>-6.090019</td>\n",
              "      <td>-3.845276</td>\n",
              "      <td>-16.745094</td>\n",
              "      <td>-14.588734</td>\n",
              "      <td>-5.743793</td>\n",
              "      <td>-6.042477</td>\n",
              "      <td>do</td>\n",
              "    </tr>\n",
              "  </tbody>\n",
              "</table>\n",
              "</div>"
            ],
            "text/plain": [
              "  filename  chroma_stft  spectral_centroid  ...     mfcc19     mfcc20  label\n",
              "0  do2.wav     0.158347         851.982849  ...  -8.290440  -7.369336     do\n",
              "1  do4.wav     0.124815        1171.407928  ...  -9.758384  15.131855     do\n",
              "2  do1.wav     0.164177        1005.318429  ... -11.241454 -11.252067     do\n",
              "3  do3.wav     0.121150        1217.114429  ...  -8.168141  14.075324     do\n",
              "4  do6.wav     0.147190        1365.176287  ...  -5.743793  -6.042477     do\n",
              "\n",
              "[5 rows x 27 columns]"
            ]
          },
          "metadata": {
            "tags": []
          },
          "execution_count": 181
        }
      ]
    },
    {
      "cell_type": "code",
      "metadata": {
        "id": "Il3Ax14v1K65",
        "colab_type": "code",
        "outputId": "262d3b7a-ebbe-4325-d0dd-7460a3454b75",
        "colab": {
          "base_uri": "https://localhost:8080/",
          "height": 34
        }
      },
      "source": [
        "data.shape"
      ],
      "execution_count": 182,
      "outputs": [
        {
          "output_type": "execute_result",
          "data": {
            "text/plain": [
              "(35, 27)"
            ]
          },
          "metadata": {
            "tags": []
          },
          "execution_count": 182
        }
      ]
    },
    {
      "cell_type": "code",
      "metadata": {
        "id": "vqQGjBaD1jw3",
        "colab_type": "code",
        "colab": {}
      },
      "source": [
        "# Dropping unneccesary columns\n",
        "data = data.drop(['filename'],axis=1)"
      ],
      "execution_count": 0,
      "outputs": []
    },
    {
      "cell_type": "markdown",
      "metadata": {
        "id": "4Cbey9471yvA",
        "colab_type": "text"
      },
      "source": [
        "\n",
        "Encoding the Labels"
      ]
    },
    {
      "cell_type": "code",
      "metadata": {
        "id": "4Z__G_dP1xNT",
        "colab_type": "code",
        "outputId": "6c597ba7-8cea-4cc5-dfbc-a5abd49abd76",
        "colab": {
          "base_uri": "https://localhost:8080/",
          "height": 34
        }
      },
      "source": [
        "genre_list = data.iloc[:, -1]\n",
        "encoder = LabelEncoder()\n",
        "y = encoder.fit_transform(genre_list)\n",
        "print(y)"
      ],
      "execution_count": 184,
      "outputs": [
        {
          "output_type": "stream",
          "text": [
            "[0 0 0 0 0 0 4 4 4 4 4 3 3 3 3 3 1 1 1 1 1 6 6 6 6 6 2 2 2 2 2 5 5 5 5]\n"
          ],
          "name": "stdout"
        }
      ]
    },
    {
      "cell_type": "markdown",
      "metadata": {
        "id": "JWLb1TVK2QoT",
        "colab_type": "text"
      },
      "source": [
        "Dividing data into training and Testing set"
      ]
    },
    {
      "cell_type": "code",
      "metadata": {
        "id": "0pTYMYtD2Akp",
        "colab_type": "code",
        "colab": {}
      },
      "source": [
        "scaler = StandardScaler()\n",
        "X = scaler.fit_transform(np.array(data.iloc[:, :-1], dtype = float))"
      ],
      "execution_count": 0,
      "outputs": []
    },
    {
      "cell_type": "code",
      "metadata": {
        "id": "HHVszqyC2Oj2",
        "colab_type": "code",
        "colab": {}
      },
      "source": [
        "X_train, X_test, y_train, y_test = train_test_split(X, y, test_size=0.05)"
      ],
      "execution_count": 0,
      "outputs": []
    },
    {
      "cell_type": "code",
      "metadata": {
        "id": "C67yaZhb2W-4",
        "colab_type": "code",
        "outputId": "b720b022-2f7a-4669-de7d-b03ea6e498d6",
        "colab": {
          "base_uri": "https://localhost:8080/",
          "height": 102
        }
      },
      "source": [
        "print(\"Len train: \", len(y_train))\n",
        "print(\"Len test: \", len(y_test))\n",
        "print(\"Train shape: \", len(X_train.shape))\n",
        "print(\"Test shape: \", len(y_train.shape))\n",
        "print(X_train.shape[:])"
      ],
      "execution_count": 213,
      "outputs": [
        {
          "output_type": "stream",
          "text": [
            "Len train:  33\n",
            "Len test:  2\n",
            "Train shape:  2\n",
            "Test shape:  1\n",
            "(33, 25)\n"
          ],
          "name": "stdout"
        }
      ]
    },
    {
      "cell_type": "code",
      "metadata": {
        "id": "YEYb3YJC3b7U",
        "colab_type": "code",
        "colab": {}
      },
      "source": [
        ""
      ],
      "execution_count": 0,
      "outputs": []
    },
    {
      "cell_type": "markdown",
      "metadata": {
        "id": "OQfITYGy2x8k",
        "colab_type": "text"
      },
      "source": [
        "\n",
        "Classification with Keras\n",
        "\n",
        "Building our Network"
      ]
    },
    {
      "cell_type": "code",
      "metadata": {
        "id": "kJJUX8jk2rtb",
        "colab_type": "code",
        "colab": {}
      },
      "source": [
        "from keras import models\n",
        "from keras import layers\n",
        "\n",
        "model = models.Sequential()\n",
        "model.add(layers.Dense(512, activation='relu', input_shape=(X_train.shape[1],)))\n",
        "model.add(layers.BatchNormalization(axis=-1, momentum=0.99, epsilon=0.001, center=True, scale=True, beta_initializer='zeros', gamma_initializer='ones', moving_mean_initializer='zeros', moving_variance_initializer='ones', beta_regularizer=None, gamma_regularizer=None, beta_constraint=None, gamma_constraint=None))\n",
        "model.add(layers.Dense(256, activation='relu'))\n",
        "model.add(layers.BatchNormalization(axis=-1, momentum=0.99, epsilon=0.001, center=True, scale=True, beta_initializer='zeros', gamma_initializer='ones', moving_mean_initializer='zeros', moving_variance_initializer='ones', beta_regularizer=None, gamma_regularizer=None, beta_constraint=None, gamma_constraint=None))\n",
        "model.add(layers.Dense(128, activation='relu'))\n",
        "\n",
        "model.add(layers.BatchNormalization(axis=-1, momentum=0.99, epsilon=0.001, center=True, scale=True, beta_initializer='zeros', gamma_initializer='ones', moving_mean_initializer='zeros', moving_variance_initializer='ones', beta_regularizer=None, gamma_regularizer=None, beta_constraint=None, gamma_constraint=None))\n",
        "model.add(layers.Dense(64, activation='relu'))\n",
        "\n",
        "model.add(layers.Dense(7, activation='softmax'))"
      ],
      "execution_count": 0,
      "outputs": []
    },
    {
      "cell_type": "code",
      "metadata": {
        "id": "6OIc0kAM4AUG",
        "colab_type": "code",
        "colab": {}
      },
      "source": [
        "model.compile(optimizer='adam',\n",
        "              loss='sparse_categorical_crossentropy',\n",
        "              metrics=['accuracy'])"
      ],
      "execution_count": 0,
      "outputs": []
    },
    {
      "cell_type": "code",
      "metadata": {
        "id": "qxqDeIkR4C_S",
        "colab_type": "code",
        "outputId": "267bfa09-c05d-4da2-8243-8ada488b943a",
        "colab": {
          "base_uri": "https://localhost:8080/",
          "height": 717
        }
      },
      "source": [
        "history = model.fit(X_train,\n",
        "                    y_train,\n",
        "                    epochs=20,\n",
        "                    batch_size=128)"
      ],
      "execution_count": 190,
      "outputs": [
        {
          "output_type": "stream",
          "text": [
            "Epoch 1/20\n",
            "31/31 [==============================] - 2s 59ms/step - loss: 2.3815 - acc: 0.1935\n",
            "Epoch 2/20\n",
            "31/31 [==============================] - 0s 583us/step - loss: 0.9655 - acc: 0.7419\n",
            "Epoch 3/20\n",
            "31/31 [==============================] - 0s 371us/step - loss: 0.5518 - acc: 0.9355\n",
            "Epoch 4/20\n",
            "31/31 [==============================] - 0s 434us/step - loss: 0.3783 - acc: 1.0000\n",
            "Epoch 5/20\n",
            "31/31 [==============================] - 0s 451us/step - loss: 0.2775 - acc: 1.0000\n",
            "Epoch 6/20\n",
            "31/31 [==============================] - 0s 372us/step - loss: 0.2124 - acc: 1.0000\n",
            "Epoch 7/20\n",
            "31/31 [==============================] - 0s 449us/step - loss: 0.1666 - acc: 1.0000\n",
            "Epoch 8/20\n",
            "31/31 [==============================] - 0s 409us/step - loss: 0.1329 - acc: 1.0000\n",
            "Epoch 9/20\n",
            "31/31 [==============================] - 0s 392us/step - loss: 0.1071 - acc: 1.0000\n",
            "Epoch 10/20\n",
            "31/31 [==============================] - 0s 474us/step - loss: 0.0871 - acc: 1.0000\n",
            "Epoch 11/20\n",
            "31/31 [==============================] - 0s 518us/step - loss: 0.0723 - acc: 1.0000\n",
            "Epoch 12/20\n",
            "31/31 [==============================] - 0s 401us/step - loss: 0.0613 - acc: 1.0000\n",
            "Epoch 13/20\n",
            "31/31 [==============================] - 0s 413us/step - loss: 0.0528 - acc: 1.0000\n",
            "Epoch 14/20\n",
            "31/31 [==============================] - 0s 378us/step - loss: 0.0460 - acc: 1.0000\n",
            "Epoch 15/20\n",
            "31/31 [==============================] - 0s 500us/step - loss: 0.0404 - acc: 1.0000\n",
            "Epoch 16/20\n",
            "31/31 [==============================] - 0s 413us/step - loss: 0.0356 - acc: 1.0000\n",
            "Epoch 17/20\n",
            "31/31 [==============================] - 0s 503us/step - loss: 0.0316 - acc: 1.0000\n",
            "Epoch 18/20\n",
            "31/31 [==============================] - 0s 478us/step - loss: 0.0281 - acc: 1.0000\n",
            "Epoch 19/20\n",
            "31/31 [==============================] - 0s 445us/step - loss: 0.0251 - acc: 1.0000\n",
            "Epoch 20/20\n",
            "31/31 [==============================] - 0s 463us/step - loss: 0.0226 - acc: 1.0000\n"
          ],
          "name": "stdout"
        }
      ]
    },
    {
      "cell_type": "code",
      "metadata": {
        "id": "Vwcys3Xs4Po3",
        "colab_type": "code",
        "outputId": "52ac43b2-a0f1-4dfb-d471-bf44efa5c474",
        "colab": {
          "base_uri": "https://localhost:8080/",
          "height": 34
        }
      },
      "source": [
        "\n",
        "test_loss, test_acc = model.evaluate(X_test,y_test)"
      ],
      "execution_count": 191,
      "outputs": [
        {
          "output_type": "stream",
          "text": [
            "\r4/4 [==============================] - 1s 146ms/step\n"
          ],
          "name": "stdout"
        }
      ]
    },
    {
      "cell_type": "code",
      "metadata": {
        "id": "gUKa8wBD4Pn-",
        "colab_type": "code",
        "outputId": "d15a6ed2-a874-4837-d487-9db899f857f5",
        "colab": {
          "base_uri": "https://localhost:8080/",
          "height": 34
        }
      },
      "source": [
        "print('test_acc: ',test_acc)"
      ],
      "execution_count": 192,
      "outputs": [
        {
          "output_type": "stream",
          "text": [
            "test_acc:  0.75\n"
          ],
          "name": "stdout"
        }
      ]
    },
    {
      "cell_type": "code",
      "metadata": {
        "id": "I-w_YxX37Fse",
        "colab_type": "code",
        "outputId": "7cb36244-7271-4436-b014-71196070c76b",
        "colab": {
          "base_uri": "https://localhost:8080/",
          "height": 374
        }
      },
      "source": [
        "print(X_test)\n",
        "print(y_test)"
      ],
      "execution_count": 193,
      "outputs": [
        {
          "output_type": "stream",
          "text": [
            "[[ 0.9914346  -0.97791049 -0.827574   -1.02326925 -1.36080456 -0.40144225\n",
            "   1.46224304  1.15876609  1.17231786  0.33860678  0.85298198  1.57648646\n",
            "   0.22276903  0.58077806 -0.4369171  -0.46578322  0.11922405 -0.81650834\n",
            "  -0.58388426  0.21807402 -0.66611866 -0.55414709 -0.91628367 -1.12015889\n",
            "  -0.75648964]\n",
            " [-0.71172214 -0.79519922 -0.90267948 -0.78107068 -0.60530529 -1.4154607\n",
            "   0.40672352  1.10901957  0.00576998  1.02637169  0.03592012  0.36280124\n",
            "   0.21433272  0.51039075  0.26560611 -0.46686518 -0.9152425  -0.19034323\n",
            "   0.1897985   1.52344437  2.38812767  2.16928724  1.29597575 -0.41450025\n",
            "  -1.77804882]\n",
            " [ 1.11528109  1.57243209  2.13008793  1.74889098  0.89968845  0.97960166\n",
            "  -0.49723022  0.29404589 -0.97419139  0.37783109  1.36929363 -0.54046708\n",
            "  -1.07999757 -1.03031729 -0.1806248  -0.24502815 -0.57923952 -1.22537156\n",
            "  -0.40804943  0.11669589  0.55599174 -0.1262622  -0.2769749   0.09456628\n",
            "   0.62482062]\n",
            " [-0.69293332 -0.4540543  -0.33757789 -0.22038814 -0.55110063 -0.73217499\n",
            "   1.10779137  1.40247967  1.17775484  0.93821077  0.24834218  1.03245741\n",
            "  -0.26960939  0.29473272  0.31376222  0.38101053  1.51383169  1.61847554\n",
            "   2.12800084  2.12372425  0.11472056 -0.79529425 -1.64950485 -0.63765246\n",
            "   0.54226988]]\n",
            "[4 2 1 0]\n"
          ],
          "name": "stdout"
        }
      ]
    },
    {
      "cell_type": "code",
      "metadata": {
        "id": "ETIt0B0r7VQc",
        "colab_type": "code",
        "outputId": "9fe0bc4a-ec4e-43fa-eab2-3767ebf90cb8",
        "colab": {
          "base_uri": "https://localhost:8080/",
          "height": 34
        }
      },
      "source": [
        "predictions = model.predict(X_test)\n",
        "predictions[2].shape"
      ],
      "execution_count": 199,
      "outputs": [
        {
          "output_type": "execute_result",
          "data": {
            "text/plain": [
              "(7,)"
            ]
          },
          "metadata": {
            "tags": []
          },
          "execution_count": 199
        }
      ]
    },
    {
      "cell_type": "code",
      "metadata": {
        "id": "lG8wKHC67gHS",
        "colab_type": "code",
        "outputId": "9dea5c63-8dc0-493d-96c9-c0601207d926",
        "colab": {
          "base_uri": "https://localhost:8080/",
          "height": 34
        }
      },
      "source": [
        "np.sum(predictions[0])"
      ],
      "execution_count": 195,
      "outputs": [
        {
          "output_type": "execute_result",
          "data": {
            "text/plain": [
              "1.0"
            ]
          },
          "metadata": {
            "tags": []
          },
          "execution_count": 195
        }
      ]
    },
    {
      "cell_type": "code",
      "metadata": {
        "id": "qT0fjU4t7gJV",
        "colab_type": "code",
        "outputId": "11d424ee-5840-432d-e1fc-f96dc256fc17",
        "colab": {
          "base_uri": "https://localhost:8080/",
          "height": 34
        }
      },
      "source": [
        "\n",
        "np.argmax(predictions[3])"
      ],
      "execution_count": 204,
      "outputs": [
        {
          "output_type": "execute_result",
          "data": {
            "text/plain": [
              "0"
            ]
          },
          "metadata": {
            "tags": []
          },
          "execution_count": 204
        }
      ]
    },
    {
      "cell_type": "code",
      "metadata": {
        "id": "f08_mcJC0A8x",
        "colab_type": "code",
        "colab": {}
      },
      "source": [
        ""
      ],
      "execution_count": 0,
      "outputs": []
    },
    {
      "cell_type": "markdown",
      "metadata": {
        "id": "v93CsfkK0BWI",
        "colab_type": "text"
      },
      "source": [
        "Validation set\n"
      ]
    },
    {
      "cell_type": "code",
      "metadata": {
        "id": "jyMu4Eql0E_n",
        "colab_type": "code",
        "colab": {}
      },
      "source": [
        ""
      ],
      "execution_count": 0,
      "outputs": []
    }
  ]
}